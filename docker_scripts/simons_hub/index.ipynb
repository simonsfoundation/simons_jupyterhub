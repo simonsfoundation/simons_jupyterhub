{
 "cells": [
  {
   "cell_type": "markdown",
   "metadata": {},
   "source": [
    "# Simons Foundation Jupyterhub Notebook Collection\n",
    "\n",
    "Welcome to the Simons Foundation Jupyterhub Notebook Collection.\n",
    "\n",
    "Below are links to collections of Jupyter notebooks with related data.\n",
    "Some of the collections have encrypted data which must be encrypted with a password.\n",
    "\n",
    "## Regulatory network collections\n",
    "\n",
    "[`regulatory_network_examples`](./regulatory_network_examples)\n",
    "-- Various networks, all encrypted except `Tr1_batfKO_irf1KO_Networks`.\n",
    "\n",
    "[`1702_DC_lineageNets`](./1702_DC_lineageNets) -- not encrypted.\n",
    "\n",
    "[`DCquantAtacNetworks`](./DCquantAtacNetworks) -- encrypted.\n",
    "\n",
    "[`Tr1_batfKO`](./Tr1_batfKO) -- Networks related to the ritical role of the transcription factors IRF1 and BATF in preparing the chromatin landscape during Type 1 regulatory cell differentiation.  Not encrypted.\n",
    "\n",
    "[`breast_cancer_network_binder`](./breast_cancer_network_binder) -- Breast cancer networks.  Encrypted.\n",
    "\n",
    "## Support library collections\n",
    "\n",
    "[`jp_gene_viz`](./jp_gene_viz) -- Visualization widgets and related support code.\n",
    "\n",
    "[`jp_svg_canvas`](./jp_svg_canvas) -- SVG widget support.\n",
    "\n",
    "Please contact Aaron Watters if you need to update the repository or you need to add another repository."
   ]
  },
  {
   "cell_type": "code",
   "execution_count": null,
   "metadata": {
    "collapsed": true
   },
   "outputs": [],
   "source": []
  }
 ],
 "metadata": {
  "kernelspec": {
   "display_name": "Python 2",
   "language": "python",
   "name": "python2"
  },
  "language_info": {
   "codemirror_mode": {
    "name": "ipython",
    "version": 2
   },
   "file_extension": ".py",
   "mimetype": "text/x-python",
   "name": "python",
   "nbconvert_exporter": "python",
   "pygments_lexer": "ipython2",
   "version": "2.7.13"
  },
  "widgets": {
   "state": {},
   "version": "1.1.1"
  }
 },
 "nbformat": 4,
 "nbformat_minor": 0
}
